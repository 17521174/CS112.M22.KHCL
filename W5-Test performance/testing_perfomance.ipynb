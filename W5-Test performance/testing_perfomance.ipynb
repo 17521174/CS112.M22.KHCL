{
  "nbformat": 4,
  "nbformat_minor": 0,
  "metadata": {
    "colab": {
      "name": "testing-perfomance.ipynb",
      "provenance": []
    },
    "kernelspec": {
      "name": "python3",
      "display_name": "Python 3"
    },
    "language_info": {
      "name": "python"
    }
  },
  "cells": [
    {
      "cell_type": "markdown",
      "source": [
        "# **Kiểm tra tính đúng đắn và hiệu năng chương trình là gì ?**\n",
        "Kiểm thử hiệu năng là 1 loại kểm thử phần mềm tập trung vào việc kiểm tra hoạt động của hệ thống với các trường hợp truy cập đặc thù. Kiểm thử hiệu năng không phải loại kiểm thử tập trung vào việc tìm ra lỗi phần mềm hoặc sai sót của hệ thống mà để đo lường dựa theo các **mốc và tiêu chuẩn**, nhờ đó có thể giúp cho việc phỏng đoán được và loại trừ các rủi ro trong quá trình vận hành hệ thống.\n",
        "\n",
        "\n"
      ],
      "metadata": {
        "id": "wR4wVkLpTvjy"
      }
    },
    {
      "cell_type": "markdown",
      "source": [
        "Vậy các ***mốc và tiêu chuẩn*** được đề cập ở trên là những gì ?\n",
        "\n",
        "\n",
        "1.   Bottlenecking- Thường xảy ra khi luồng dữ liệu bị ngắt hoặc ngừng vì không \n",
        "đủ bộ nhớ khi khối lượng request tăng lên\n",
        "\n",
        "2.   Khả năng mở rộng kém: Nếu phần mềm không thể đáp ứng kỳ vọng với số lượng task xảy ra đồng thời, kết quả có thể bị ngưng trệ, lỗi có thể tăng lên hoặc những hành vi không mong muốn của hệ thống xảy ra có thể ảnh hưởng bởi những yếu tố sau:\n",
        "  *   Disk usage (khối lượng sử dụng ổ đĩa)\n",
        "  *   CPU usage (khối lượng sử dụng CPU)\n",
        "  *   Memory leaks (Rò rỉ bộ nhớ)\n",
        "  *   Operating system limitations (Giới hạn của hệ thống)\n",
        "  *   Poor network configuration (Cấu hình mạng kém)\n",
        "\n",
        "3.  Vấn đề về cấu hình phần mềm: Các cài đặt chung không được cài đặt đầy đủ để đáp ứng với khối lượng công việc\n",
        "\n",
        "4.  Thiếu tài nguyên phần cứng: Kiểm tra hiệu suất có thể cho thấy các hạn chế về bộ nhớ vật lý hoặc cho thấy các CPU hoạt động kém.\n",
        "\n",
        "\n",
        "\n",
        "\n",
        "\n",
        "\n",
        "\n",
        "\n",
        "\n",
        "\n",
        "\n",
        "\n",
        "\n",
        "\n"
      ],
      "metadata": {
        "id": "YhkNXg_DUfuK"
      }
    },
    {
      "cell_type": "markdown",
      "source": [
        "# **Các bước trong kiểm thử phần mềm**\n",
        "\n",
        "\n",
        "*   Bước 1: Ghi lại hành động người dùng\n",
        "\n",
        "*   Bước 2: Chuẩn bị thông số kiểm thử\n",
        "\n",
        "*   Bước 3: Nhóm các hành động người dùng\n",
        "\n",
        "*   Bước 4: Tạo các load scenarios\n",
        "\n",
        "*   Bước 5: Mô phỏng và thực thi tải\n",
        "\n",
        "*   Bước 6: Phân tích kết quả kiểm thử\n",
        "\n",
        "*   Bước 7: Báo cáo\n",
        "\n",
        "\n",
        "\n",
        "\n",
        "\n",
        "\n"
      ],
      "metadata": {
        "id": "HW8KB98eVbou"
      }
    },
    {
      "cell_type": "markdown",
      "source": [
        "# **Đại lượng nào dùng để đánh giá được độ hiệu quả khi kiểm tra hiệu năng của chương trình ?**\n",
        "\n",
        "\n",
        "\n",
        "*   Response time (Thời gian hồi đáp): Tổng thời gian gửi 1 request và nhận được hồi đáp.\n",
        "\n",
        "*   Wait time: Còn được biết đến với cái tên thời gian chờ đợi hay thời gian xử lý request trung bình. Thông số này cho các dev biết thời gian nhận được byte đầu tiên sau khi request được gửi.\n",
        "\n",
        "*   Average load time (Thời gian tải trung bình): Nếu xét theo góc nhìn của người dùng, thời gian trung bình để truyền tải mỗi request là một thông số quan trọng về chất lượng.\n",
        "\n",
        "*   Peak response time (Thời gian hồi đáp dài nhất): Đây là thông số về quãng thời gian lâu nhất để hoàn thành một request. Nếu thông số này vượt trội so với thời gian trung bình thì rất có thể đã xuất hiện lỗi.\n",
        "\n",
        "*   Error rate (Tỉ lệ lỗi): Phép tính này cho ra số phần trăm request dẫn đến lỗi so với tổng số request. Các lỗi này thường xuất hiện khi lượng công việc vượt quá dung lượng bộ nhớ.\n",
        "\n",
        "*   Concurrent users (Số người dùng đồng thời): Đây là cách thông dụng nhất để đo lượng công việc - số lượng người dùng đang hoạt động ở bất kỳ thời điểm nào. Thông số này còn được gọi là load size (kích cỡ công việc).\n",
        "\n",
        "*   Requests per second (Số request mỗi giây): Số lượng request được xử lý.\n",
        "\n",
        "*   Transactions passed/failed (Số lượng giao dịch thành công/thất bại): Tổng số request thành công hoặc không thành công.\n",
        "\n",
        "*   Throughput (Thông lượng): Thông lượng, được tính bằng đơn vị kilobyte/s, cho biết số lượng băng thông được sử dụng khi kiểm thử.\n",
        "\n",
        "*   CPU utilization (Hiệu suất CPU): Thời gian CPU cần để xử lý request.\n",
        "\n",
        "*   Memory utilization (Hiệu suất bộ nhớ): Dung lượng cần có để xử lý request.\n",
        "\n",
        "\n",
        "\n",
        "\n",
        "\n",
        "\n",
        "\n",
        "\n",
        "\n"
      ],
      "metadata": {
        "id": "CPLNOOCkWxvk"
      }
    }
  ]
}