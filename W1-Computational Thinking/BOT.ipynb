{
  "nbformat": 4,
  "nbformat_minor": 0,
  "metadata": {
    "colab": {
      "name": "BOT.ipynb",
      "provenance": [],
      "authorship_tag": "ABX9TyM93toeiYyccJfi3auDHAY5",
      "include_colab_link": true
    },
    "kernelspec": {
      "name": "python3",
      "display_name": "Python 3"
    },
    "language_info": {
      "name": "python"
    }
  },
  "cells": [
    {
      "cell_type": "markdown",
      "metadata": {
        "id": "view-in-github",
        "colab_type": "text"
      },
      "source": [
        "<a href=\"https://colab.research.google.com/github/17521174/CS112.M22.KHCL/blob/main/W1-Computational%20Thinking/BOT.ipynb\" target=\"_parent\"><img src=\"https://colab.research.google.com/assets/colab-badge.svg\" alt=\"Open In Colab\"/></a>"
      ]
    },
    {
      "cell_type": "markdown",
      "source": [
        "**BOT**(*Built-Operation-Transfer*, có nghĩa: Xây dựng-Vận hành-Chuyển giao) là hình thức Chính phủ kêu gọi các công ty bỏ vốn xây dựng trước (*Built*) thông qua đấu thầu, sau đó khai thác vận hành một thời gian (*Operation*) và sau cùng là chuyển giao (*Transfer*) lại cho nhà nước sở tại.\n",
        "\n",
        "Đường cao tốc xuyên quốc gia được xây dựng theo hình thức BOT. Công ty Đa quốc gia *Modern Highway* trúng thầu, chia toàn bộ con đường thành $\\mathbf{n}$ đoạn. Theo tính toán của Công ty sau khi chuyển giao con đường cho chính phủ sở tại quản lý thì lãi thu được ở đoạn đường thứ $\\mathbf{i}$ là $\\mathbf{a_i}$, $\\mathbf{a_i}$ có thể dương, âm hoặc bằng 0, tức là với từng đoạn con có thể lãi, lỗ hoặc hòa vốn. Từng nhóm các đoạn đường liên tiếp nhau (gọi tắt là khoảng) được chia cho các công ty con thực hiện. Công ty con *ASEAM Highway* hiện đang có trụ sở ở nước sở tại được quyền chọn trước khoảng tùy ý (có thể là cả con đường).\n",
        "\n",
        "Dĩ nhiên Ban Giám đốc *ASEAM Highway* muốn chọn khoảng bắt đầu từ đoạn $\\mathbf{p}$ đến hết đoạn $\\mathbf{q}$ mang lại lợi nhuận cao nhất hoặc lỗ ít nhất nếu không có khoảng nào cho lãi.\n",
        "\n",
        "Hãy chỉ ra khoảng cần chọn và lãi thu được. Nếu có nhiều cách chọn thì chỉ ra cách chọn có $\\mathbf{p}$ nhỏ nhất.\n",
        "\n",
        "***Dữ liệu:*** Vào từ thiết bị nhập chuẩn:\n",
        "- Dòng đầu tiên chứa số nguyên $\\mathbf{n}$ (1 ≤ $\\mathbf{n}$ ≤ $10^{6}$),\n",
        "- Dòng thứ 2 chứa n số nguyên $\\mathbf{a_1}$, $\\mathbf{a_2}$, . . ., $\\mathbf{a_n}$ (0 ≤ |$\\mathbf{a_i}$| ≤ $10^{9}$, $\\mathbf{i}$ = 1 ÷ $\\mathbf{n}$).\n",
        "\n",
        "***Kết quả:*** Đưa ra thiết bị xuất chuẩn trên một dòng 2 số nguyên p, q và lãi thu được\n",
        "\n",
        "***Ví dụ:***\n",
        "\n",
        "| INPUT | OUTPUT |\n",
        "| :--- | :----------- |\n",
        "| 16<br>2 -4 5 -8 4 -1 -1 1 1 1 -2 2 4 -6 9 -4 | 5 15 12 |\n"
      ],
      "metadata": {
        "id": "JTlrqKf8-GK7"
      }
    },
    {
      "cell_type": "code",
      "execution_count": null,
      "metadata": {
        "id": "2Lr8WYO4-Fcw"
      },
      "outputs": [],
      "source": [
        ""
      ]
    }
  ]
}