{
  "nbformat": 4,
  "nbformat_minor": 0,
  "metadata": {
    "colab": {
      "name": "BOT.ipynb",
      "provenance": [],
      "authorship_tag": "ABX9TyMNWqCdst9ofAwCuzCK8aDa",
      "include_colab_link": true
    },
    "kernelspec": {
      "name": "python3",
      "display_name": "Python 3"
    },
    "language_info": {
      "name": "python"
    }
  },
  "cells": [
    {
      "cell_type": "markdown",
      "metadata": {
        "id": "view-in-github",
        "colab_type": "text"
      },
      "source": [
        "<a href=\"https://colab.research.google.com/github/17521174/CS112.M22.KHCL/blob/main/W1-Computational%20Thinking/BOT.ipynb\" target=\"_parent\"><img src=\"https://colab.research.google.com/assets/colab-badge.svg\" alt=\"Open In Colab\"/></a>"
      ]
    },
    {
      "cell_type": "markdown",
      "source": [
        "**BOT**(*Built-Operation-Transfer*, có nghĩa: Xây dựng-Vận hành-Chuyển giao) là hình thức Chính phủ kêu gọi các công ty bỏ vốn xây dựng trước (*Built*) thông qua đấu thầu, sau đó khai thác vận hành một thời gian (*Operation*) và sau cùng là chuyển giao (*Transfer*) lại cho nhà nước sở tại.\n",
        "\n",
        "Đường cao tốc xuyên quốc gia được xây dựng theo hình thức BOT. Công ty Đa quốc gia *Modern Highway* trúng thầu, chia toàn bộ con đường thành $\\mathbf{n}$ đoạn. Theo tính toán của Công ty sau khi chuyển giao con đường cho chính phủ sở tại quản lý thì lãi thu được ở đoạn đường thứ $\\mathbf{i}$ là $\\mathbf{a_i}$, $\\mathbf{a_i}$ có thể dương, âm hoặc bằng 0, tức là với từng đoạn con có thể lãi, lỗ hoặc hòa vốn. Từng nhóm các đoạn đường liên tiếp nhau (gọi tắt là khoảng) được chia cho các công ty con thực hiện. Công ty con *ASEAM Highway* hiện đang có trụ sở ở nước sở tại được quyền chọn trước khoảng tùy ý (có thể là cả con đường).\n",
        "\n",
        "Dĩ nhiên Ban Giám đốc *ASEAM Highway* muốn chọn khoảng bắt đầu từ đoạn $\\mathbf{p}$ đến hết đoạn $\\mathbf{q}$ mang lại lợi nhuận cao nhất hoặc lỗ ít nhất nếu không có khoảng nào cho lãi.\n",
        "\n",
        "Hãy chỉ ra khoảng cần chọn và lãi thu được. Nếu có nhiều cách chọn thì chỉ ra cách chọn có $\\mathbf{p}$ nhỏ nhất.\n",
        "\n",
        "***Dữ liệu:*** Vào từ thiết bị nhập chuẩn:\n",
        "- Dòng đầu tiên chứa số nguyên $\\mathbf{n}$ (1 ≤ $\\mathbf{n}$ ≤ $10^{6}$),\n",
        "- Dòng thứ 2 chứa n số nguyên $\\mathbf{a_1}$, $\\mathbf{a_2}$, . . ., $\\mathbf{a_n}$ (0 ≤ |$\\mathbf{a_i}$| ≤ $10^{9}$, $\\mathbf{i}$ = 1 ÷ $\\mathbf{n}$).\n",
        "\n",
        "***Kết quả:*** Đưa ra thiết bị xuất chuẩn trên một dòng 2 số nguyên p, q và lãi thu được\n",
        "\n",
        "***Ví dụ:***\n",
        "\n",
        "| INPUT | OUTPUT |\n",
        "| :--- | :----------- |\n",
        "| 16<br>2 -4 5 -8 4 -1 -1 1 1 1 -2 2 4 -6 9 -4 | 5 15 12 |\n"
      ],
      "metadata": {
        "id": "JTlrqKf8-GK7"
      }
    },
    {
      "cell_type": "markdown",
      "source": [
        "## **2. Kỹ thuật áp dụng**\n",
        "\n",
        "**Tổng tiền tố**\n",
        "\n",
        "Kỹ thuật tổng tiền tố xây dựng mảng $f$ với mỗi phần tử được định nghĩa như sau:\n",
        "$f_i = \\sum_{j=1}^{i} a_i$\n",
        "\n",
        "Từ đó ta có thể tính được tổng các phần tử của đoạn từ $p$ đến $q$ với công thức: $S_{pq} = f_p - f_{q-1}$\n",
        "\n",
        "Trong cài đặt thực ra ta chỉ cần hai biến `fi` và `f_min` (sẽ giải thích kĩ hơn ở bên dưới) để lưu hai giá trị thay vì tạo mảng để lưu tất cả giá trị $f_i$."
      ],
      "metadata": {
        "id": "F85ewL2g-6qg"
      }
    },
    {
      "cell_type": "markdown",
      "source": [
        "## **3. Thuật toán**\n",
        "\n",
        "**Ý tưởng**\n",
        "\n",
        "- $S_{max}$ là tổng của đoạn có tổng lớn nhất trong dãy $a$ (tổng cần tìm).\n",
        "- $S_i$ là tổng của đoạn kết thúc tại vị trí $i$ có tổng lớn nhất.\n",
        "- Khi đó ta có thể tính được $S_{max}$ theo công thức sau:\n",
        "\n",
        "\\begin{align}\n",
        "S_{max} = max(S_1, S_2, ... , S_n)\n",
        "\\end{align}\n",
        "\n",
        "- Cách tính $S_i$: tổng của đoạn kết thúc tại vị trí $i$ có dạng $f_i - f_{j}$, với $j<i$. Vì vậy để tổng đó lớn nhất thì ta phải tìm $f_j$ nhỏ nhất, ta gọi giá trị nhỏ nhất này là $f_{min}$.\n",
        "\n",
        "Tóm lại để giải bài toán này ta sẽ duyệt từ đầu đến cuối dãy $a$, tại mỗi lần lặp ta thực hiện: \n",
        "- Tính $f_i$ = $f_{i-1} + a_i$\n",
        "- Nếu $f_i < f_{min}$ thì cập nhật $f_{min} = f_i$\n",
        "- Tính $S_i = f_i - f_{min}$\n",
        "- Nếu $S_i > S_{max}$ thì cập nhật $S_{max} = S_i$, đồng thời cập nhật các giá trị $p$, $q$\n",
        "\n",
        "*Độ phức tạp của thuật toán là $O(n)$.*\n",
        "\n",
        "**Mã giả thuật toán**\n",
        "\n",
        "```pseudocode\n",
        "initialize variables\n",
        "\n",
        "for i = 1 to n:\n",
        "    fi = fi + a[i]\n",
        "    if fi < f_min:\n",
        "        update fi = f_min\n",
        "    if fi - f_min > S_max:\n",
        "        update S_max, p, q\n",
        "```"
      ],
      "metadata": {
        "id": "xNCzNMAo_IIY"
      }
    },
    {
      "cell_type": "code",
      "source": [
        ""
      ],
      "metadata": {
        "id": "c7wI3--M-2JG"
      },
      "execution_count": null,
      "outputs": []
    }
  ]
}