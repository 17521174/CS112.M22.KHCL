{
  "nbformat": 4,
  "nbformat_minor": 0,
  "metadata": {
    "colab": {
      "name": "Đệ quy",
      "provenance": [],
      "collapsed_sections": []
    },
    "kernelspec": {
      "name": "python3",
      "display_name": "Python 3"
    },
    "language_info": {
      "name": "python"
    }
  },
  "cells": [
    {
      "cell_type": "markdown",
      "source": [
        "# **Khái niệm**\n",
        "Một bài toán T được gọi là có tính chất đệ quy khi lời giải của nó có thể đưa về lời giải của bài toán P nhỏ hơn nó và có dạng giống nó, đồng thời lời giải của P không cần dùng tới T. Lời giải cho những bài toán như vậy được gọi là giải thuật đệ quy.\n",
        "\n",
        "Đệ quy có 6 loại:\n",
        "*   Đệ quy đơn (đệ quy tuyến tính).\n",
        "*   Đệ quy nhị phân.\n",
        "*   Đệ quy đuôi.\n",
        "*   Đệ quy đa tuyến.\n",
        "*   Đệ quy lồng.\n",
        "*   Đệ quy tương hỗ.\n",
        "\n",
        "\n"
      ],
      "metadata": {
        "id": "YPWYq9I38SHX"
      }
    },
    {
      "cell_type": "markdown",
      "source": [
        "#**Công thức truy hồi**\n",
        "\n",
        "Sau khi phân tách chúng về bài toán nhỏ hơn, chúng ta sẽ có hai nhiệm vụ:\n",
        "*   Tìm lời giải cho các bài toán cơ sở.\n",
        "*   Kết hợp lời giải của các bài toán con thành bài toán lớn.\n",
        "\n",
        "Trong khi bước thứ nhất khá đơn giản vì bài toán cơ sở là bài toán có kích thước nhỏ, rất dễ giải, thì bước thứ hai là bước cần có nhiều tư duy hơn. Hệ thức dùng để liên hệ giữa các bài toán nhỏ và bài toán lớn được gọi là công thức truy hồi. Chúng ta gặp rất nhiều những định nghĩa về công thức truy hồi trong Toán học, lấy ví dụ:\n",
        "\n",
        "\n",
        "*   Dãy số Fibonaci có công thức truy hồi là $f_n = f_{n-1}+f_{n-2}$ với $(n>1)$ và hai bài toán cơ sở là $f_0 = 0$ và $f_1 = 1$\n",
        "*   Dãy số $u_n$ với công thức truy hồi là $u_n = 3u_{n-1}$ với $(n>1)$ và bài toán cơ sở là $u_n = 3...$\n",
        "\n",
        "\n",
        "\n",
        "\n"
      ],
      "metadata": {
        "id": "xnsio5jD8nI5"
      }
    },
    {
      "cell_type": "markdown",
      "source": [
        "Việc xác định công thức truy hồi của một bài toán có bản chất đệ quy là vấn đề quyết định đến việc có thể giải được nó hay không. Các lời giải đệ quy có thể sử dụng hai cách cài đặt là cài đặt đệ quy và cài đặt không đệ quy, ở phần sau chúng ta sẽ cùng nghiên cứu cách cài đặt các hàm đệ quy để giải bài toán có bản chất đệ quy."
      ],
      "metadata": {
        "id": "UtzPA3beAN4v"
      }
    },
    {
      "cell_type": "markdown",
      "source": [
        "#**Hàm đệ quy**\n",
        "\n",
        "Đặc điểm của một hàm đệ quy là luôn luôn có lời gọi lại tới chính nó (thực tế bài toán đệ quy cũng là đi giải lại chính bài toán đó nhưng với kích thước nhỏ hơn)\n",
        "\n",
        "\n",
        "```\n",
        "{Hàm_đệ_quy} ({Danh_sách_tham_số})\n",
        "{\n",
        "    {Gọi_lại_hàm_đệ_quy}({Danh_sách_tham_số});\n",
        "}\n",
        "```\n",
        "\n"
      ],
      "metadata": {
        "id": "HRCo6-GjAtR6"
      }
    },
    {
      "cell_type": "markdown",
      "source": [
        "Hàm đệ quy luôn có 2 thành phần:\n",
        "\n",
        "\n",
        "*   **Phần neo**: Chính là lời giải cho bài toán cơ sở, cũng là phần thể hiện tính dừng của thuật toán. Khi hàm đệ quy tự gọi lại chính nó tới một thời điểm nhất định thì sẽ phải đạt được phần neo, bởi vì bài toán không thể phân tách ra mãi được mà phải đạt tới một bài toán cơ sở đã có sẵn kết quả. Công việc ở phần neo rất đơn giản, có thể giải trực tiếp mà không cần thông qua bài toán nhỏ hơn nào cả.\n",
        "*   **Phần đệ quy**: Trong trường hợp bài toán chưa thể giải được bằng phần neo, ta sẽ xác định các bài toán con và gọi đệ quy tới các bài toán con đó để giải chúng. Sau khi đã có lời giải của các bài toán con rồi, ta phối hợp chúng lại bằng công thức truy hồi để có được lời giải của bài toán ban đầu. Phần này thể hiện tính quy nạp của thuật toán.\n",
        "\n"
      ],
      "metadata": {
        "id": "c5eMoe51BDjh"
      }
    },
    {
      "cell_type": "markdown",
      "source": [
        "#**Bài toán minh họa**\n",
        "Xét bài toán tính $n!$ như sau:\n",
        "\n",
        "\n",
        "```\n",
        "int factorial(int n)\n",
        "{\n",
        "    if (n == 0)\n",
        "        return 1;\n",
        "    else\n",
        "        return factorial(n - 1) * n;\n",
        "}\n",
        "```\n",
        "Ở bài toán này, phần neo định nghĩa trước lời giải cho trường hợp $n = 0$ là $1$ còn đối với các bài toán có $n > 1$, ta sẽ dùng lời gọi đệ quy để đưa về giải bài toán có kích thước bằng $n - 1$ rồi từ đó tính $n! = (n - 1) * n!$. Chẳng hạn, nếu dùng hàm này để tính $3!$ giải thuật sẽ diễn ra như sau:\n",
        "<img src='https://cdn.ucode.vn/uploads/2247/images/yWgoxGhp.png' />\n",
        "\n"
      ],
      "metadata": {
        "id": "N5CAYJ2qBnxC"
      }
    },
    {
      "cell_type": "code",
      "source": [
        ""
      ],
      "metadata": {
        "id": "YwQtoGDxCKLD"
      },
      "execution_count": null,
      "outputs": []
    }
  ]
}